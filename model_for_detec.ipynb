{
 "cells": [
  {
   "cell_type": "code",
   "execution_count": 1,
   "id": "913fc05f",
   "metadata": {
    "_cell_guid": "b1076dfc-b9ad-4769-8c92-a6c4dae69d19",
    "_uuid": "8f2839f25d086af736a60e9eeb907d3b93b6e0e5",
    "execution": {
     "iopub.execute_input": "2024-03-18T15:35:53.928929Z",
     "iopub.status.busy": "2024-03-18T15:35:53.928556Z",
     "iopub.status.idle": "2024-03-18T15:36:09.815642Z",
     "shell.execute_reply": "2024-03-18T15:36:09.814801Z"
    },
    "papermill": {
     "duration": 15.894156,
     "end_time": "2024-03-18T15:36:09.817894",
     "exception": false,
     "start_time": "2024-03-18T15:35:53.923738",
     "status": "completed"
    },
    "tags": []
   },
   "outputs": [
    {
     "name": "stderr",
     "output_type": "stream",
     "text": [
      "2024-03-18 15:35:56.549494: E external/local_xla/xla/stream_executor/cuda/cuda_dnn.cc:9261] Unable to register cuDNN factory: Attempting to register factory for plugin cuDNN when one has already been registered\n",
      "2024-03-18 15:35:56.549599: E external/local_xla/xla/stream_executor/cuda/cuda_fft.cc:607] Unable to register cuFFT factory: Attempting to register factory for plugin cuFFT when one has already been registered\n",
      "2024-03-18 15:35:56.677970: E external/local_xla/xla/stream_executor/cuda/cuda_blas.cc:1515] Unable to register cuBLAS factory: Attempting to register factory for plugin cuBLAS when one has already been registered\n"
     ]
    }
   ],
   "source": [
    "import numpy as np\n",
    "import pandas as pd\n",
    "import cv2\n",
    "from tensorflow import keras\n",
    "from sklearn.model_selection import train_test_split\n",
    "from tensorflow.keras.metrics import MeanIoU\n",
    "from tensorflow.keras.optimizers import Adam\n",
    "from tensorflow.keras.losses import binary_crossentropy\n",
    "from tensorflow.keras.callbacks import ModelCheckpoint, EarlyStopping\n",
    "from tensorflow.keras.models import Model\n",
    "from tensorflow.keras.layers import Input, Conv2D, MaxPooling2D, Dropout, Conv2DTranspose, concatenate\n",
    "\n",
    "\n",
    "data = pd.read_csv('/kaggle/input/airbus-ship-detection/train_ship_segmentations_v2.csv')"
   ]
  },
  {
   "cell_type": "code",
   "execution_count": 2,
   "id": "6dac7def",
   "metadata": {
    "execution": {
     "iopub.execute_input": "2024-03-18T15:36:09.825505Z",
     "iopub.status.busy": "2024-03-18T15:36:09.825223Z",
     "iopub.status.idle": "2024-03-18T15:36:09.839512Z",
     "shell.execute_reply": "2024-03-18T15:36:09.838801Z"
    },
    "papermill": {
     "duration": 0.020039,
     "end_time": "2024-03-18T15:36:09.841420",
     "exception": false,
     "start_time": "2024-03-18T15:36:09.821381",
     "status": "completed"
    },
    "tags": []
   },
   "outputs": [],
   "source": [
    "from tqdm import tqdm"
   ]
  },
  {
   "cell_type": "code",
   "execution_count": 3,
   "id": "fae5e915",
   "metadata": {
    "execution": {
     "iopub.execute_input": "2024-03-18T15:36:09.848838Z",
     "iopub.status.busy": "2024-03-18T15:36:09.848085Z"
    },
    "papermill": {
     "duration": 550.367104,
     "end_time": "2024-03-18T15:45:20.211480",
     "exception": false,
     "start_time": "2024-03-18T15:36:09.844376",
     "status": "completed"
    },
    "tags": []
   },
   "outputs": [],
   "source": [
    "# Define a function to load and preprocess images in batches\n",
    "def load_images_batch(image_paths, batch_size=32):\n",
    "    images = []\n",
    "    for i in range(0, len(image_paths), batch_size):\n",
    "        batch_paths = image_paths[i:i+batch_size]\n",
    "        batch_images = [load_image(path) for path in batch_paths]\n",
    "        images.extend(batch_images)\n",
    "    return np.array(images)\n",
    "\n",
    "# Define a function to create a data generator for masks\n",
    "def mask_generator(mask_data, batch_size=32):\n",
    "    num_samples = len(mask_data)\n",
    "    while True:\n",
    "        for offset in range(0, num_samples, batch_size):\n",
    "            batch_masks = mask_data[offset:offset+batch_size]\n",
    "            yield np.array(batch_masks)\n",
    "\n",
    "def load_image(image_path):\n",
    "    try:\n",
    "        # Завантаження зображення за вказаним шляхом\n",
    "        image = cv2.imread(image_path)\n",
    "        \n",
    "        # Перевірка, чи вдалося завантажити зображення\n",
    "        if image is None:\n",
    "            raise FileNotFoundError(f\"Failed to load image at path: {image_path}\")\n",
    "        \n",
    "        return image\n",
    "        \n",
    "    except Exception as e:\n",
    "        # Обробка помилок\n",
    "        print(f\"Error loading image: {e}\")\n",
    "        return None\n",
    "\n",
    "# Функція для перетворення run-length encoding у маску зображення\n",
    "def rle_to_mask(rle_string, width, height):\n",
    "    mask = np.zeros(width * height, dtype=np.uint8)\n",
    "    rle_numbers = [int(num_string) for num_string in rle_string.split(' ')]\n",
    "    for i in range(len(rle_numbers) // 2):\n",
    "        start = rle_numbers[2 * i] - 1\n",
    "        length = rle_numbers[2 * i + 1]\n",
    "        mask[start:start + length] = 1\n",
    "    mask = mask.reshape((height, width), order='F')\n",
    "    return mask\n",
    "\n",
    "# Load data paths and preprocess images in batches\n",
    "data = pd.read_csv('/kaggle/input/airbus-ship-detection/train_ship_segmentations_v2.csv')\n",
    "image_paths = ['/kaggle/input/airbus-ship-detection/train_v2/' + row['ImageId'] for i, row in data.iterrows()]\n",
    "images = load_images_batch(image_paths, batch_size=32)\n",
    "\n",
    "# Generate masks in batches using a data generator\n",
    "masks_data = [rle_to_mask(row['EncodedPixels'], width, height) if isinstance(row['EncodedPixels'], str) else np.zeros((height, width)) for i, row in data.iterrows()]\n",
    "mask_gen = mask_generator(masks_data, batch_size=32)\n"
   ]
  },
  {
   "cell_type": "code",
   "execution_count": null,
   "id": "eb318b9b",
   "metadata": {
    "papermill": {
     "duration": null,
     "end_time": null,
     "exception": null,
     "start_time": null,
     "status": "completed"
    },
    "tags": []
   },
   "outputs": [],
   "source": [
    "# Split data into training and validation sets\n",
    "train_images, val_images, train_masks, val_masks = train_test_split(image_paths, masks_data, test_size=0.2, random_state=42)\n"
   ]
  },
  {
   "cell_type": "code",
   "execution_count": null,
   "id": "0a342cd2",
   "metadata": {
    "papermill": {
     "duration": null,
     "end_time": null,
     "exception": null,
     "start_time": null,
     "status": "completed"
    },
    "tags": []
   },
   "outputs": [],
   "source": [
    "# Створення Unet моделі\n",
    "\n",
    "def build_unet(input_shape):\n",
    "    inputs = Input(input_shape)\n",
    "\n",
    "    # Encoder\n",
    "    conv1 = Conv2D(64, 3, activation='relu', padding='same')(inputs)\n",
    "    conv1 = Conv2D(64, 3, activation='relu', padding='same')(conv1)\n",
    "    pool1 = MaxPooling2D(pool_size=(2, 2))(conv1)\n",
    "\n",
    "    conv2 = Conv2D(128, 3, activation='relu', padding='same')(pool1)\n",
    "    conv2 = Conv2D(128, 3, activation='relu', padding='same')(conv2)\n",
    "    pool2 = MaxPooling2D(pool_size=(2, 2))(conv2)\n",
    "\n",
    "    # Decoder\n",
    "    conv3 = Conv2D(256, 3, activation='relu', padding='same')(pool2)\n",
    "    conv3 = Conv2D(256, 3, activation='relu', padding='same')(conv3)\n",
    "    up1 = Conv2DTranspose(128, (2, 2), strides=(2, 2), padding='same')(conv3)\n",
    "    up1 = concatenate([up1, conv2], axis=3)\n",
    "\n",
    "    conv4 = Conv2D(128, 3, activation='relu', padding='same')(up1)\n",
    "    conv4 = Conv2D(128, 3, activation='relu', padding='same')(conv4)\n",
    "    up2 = Conv2DTranspose(64, (2, 2), strides=(2, 2), padding='same')(conv4)\n",
    "    up2 = concatenate([up2, conv1], axis=3)\n",
    "\n",
    "    conv5 = Conv2D(64, 3, activation='relu', padding='same')(up2)\n",
    "    conv5 = Conv2D(64, 3, activation='relu', padding='same')(conv5)\n",
    "\n",
    "    outputs = Conv2D(1, 1, activation='sigmoid')(conv5)\n",
    "\n",
    "    model = Model(inputs=inputs, outputs=outputs)\n",
    "    return model\n",
    "\n",
    "# Компіляція моделі\n",
    "model = build_unet(input_shape=(256, 256, 3))\n",
    "model.compile(optimizer=Adam(), loss=binary_crossentropy, metrics=[dice_score])\n"
   ]
  },
  {
   "cell_type": "code",
   "execution_count": null,
   "id": "b3c06258",
   "metadata": {
    "papermill": {
     "duration": null,
     "end_time": null,
     "exception": null,
     "start_time": null,
     "status": "completed"
    },
    "tags": []
   },
   "outputs": [],
   "source": [
    "# Навчання моделі\n",
    "history = model.fit(train_images, train_masks, epochs=20, batch_size=32, validation_data=(val_images, val_masks))\n",
    "\n",
    "# Оцінка моделі\n",
    "test_loss, test_dice_score = model.evaluate(test_images, test_masks)\n",
    "print(f'Test Loss: {test_loss}, Test Dice Score: {test_dice_score}')"
   ]
  },
  {
   "cell_type": "code",
   "execution_count": null,
   "id": "85e1f9c6",
   "metadata": {
    "papermill": {
     "duration": null,
     "end_time": null,
     "exception": null,
     "start_time": null,
     "status": "completed"
    },
    "tags": []
   },
   "outputs": [],
   "source": [
    "import pandas as pd\n",
    "import numpy as np\n",
    "import tensorflow as tf\n",
    "from sklearn.model_selection import train_test_split\n",
    "from tensorflow.keras.metrics import MeanIoU\n",
    "\n",
    "# Step 1: Data Preprocessing\n",
    "train_df = pd.read_csv(\"/kaggle/input/airbus-ship-detection/train_ship_segmentations_v2.csv\")\n",
    "\n",
    "# Convert run-length encoded masks to binary masks\n",
    "def rle_decode(mask_rle, shape=(768, 768)):\n",
    "    s = mask_rle.split()\n",
    "    starts, lengths = [np.asarray(x, dtype=int) for x in (s[0:][::2], s[1:][::2])]\n",
    "    starts -= 1\n",
    "    ends = starts + lengths\n",
    "    img = np.zeros(shape[0]*shape[1], dtype=np.uint8)\n",
    "    for lo, hi in zip(starts, ends):\n",
    "        img[lo:hi] = 1\n",
    "    return img.reshape(shape).T  # Needed to align to RLE direction\n",
    "\n"
   ]
  },
  {
   "cell_type": "code",
   "execution_count": null,
   "id": "14cf326d",
   "metadata": {
    "papermill": {
     "duration": null,
     "end_time": null,
     "exception": null,
     "start_time": null,
     "status": "completed"
    },
    "tags": []
   },
   "outputs": [],
   "source": [
    "# Implement UNet architecture\n",
    "def unet_model(input_shape=(768, 768, 3)):\n",
    "    inputs = tf.keras.layers.Input(input_shape)\n",
    "\n",
    "    # Encoder\n",
    "    conv1 = tf.keras.layers.Conv2D(64, 3, activation='relu', padding='same')(inputs)\n",
    "    conv1 = tf.keras.layers.Conv2D(64, 3, activation='relu', padding='same')(conv1)\n",
    "    pool1 = tf.keras.layers.MaxPooling2D(pool_size=(2, 2))(conv1)\n",
    "\n",
    "    conv2 = tf.keras.layers.Conv2D(128, 3, activation='relu', padding='same')(pool1)\n",
    "    conv2 = tf.keras.layers.Conv2D(128, 3, activation='relu', padding='same')(conv2)\n",
    "    pool2 = tf.keras.layers.MaxPooling2D(pool_size=(2, 2))(conv2)\n",
    "\n",
    "    # Bottleneck\n",
    "    conv3 = tf.keras.layers.Conv2D(256, 3, activation='relu', padding='same')(pool2)\n",
    "    conv3 = tf.keras.layers.Conv2D(256, 3, activation='relu', padding='same')(conv3)\n",
    "\n",
    "    # Decoder\n",
    "    up4 = tf.keras.layers.Conv2DTranspose(128, (2, 2), strides=(2, 2), padding='same')(conv3)\n",
    "    up4 = tf.keras.layers.concatenate([up4, conv2], axis=3)\n",
    "    conv4 = tf.keras.layers.Conv2D(128, 3, activation='relu', padding='same')(up4)\n",
    "    conv4 = tf.keras.layers.Conv2D(128, 3, activation='relu', padding='same')(conv4)\n",
    "\n",
    "    up5 = tf.keras.layers.Conv2DTranspose(64, (2, 2), strides=(2, 2), padding='same')(conv4)\n",
    "    up5 = tf.keras.layers.concatenate([up5, conv1], axis=3)\n",
    "    conv5 = tf.keras.layers.Conv2D(64, 3, activation='relu', padding='same')(up5)\n",
    "    conv5 = tf.keras.layers.Conv2D(64, 3, activation='relu', padding='same')(conv5)\n",
    "\n",
    "    outputs = tf.keras.layers.Conv2D(1, 1, activation='sigmoid')(conv5)\n",
    "\n",
    "    model = tf.keras.Model(inputs=inputs, outputs=outputs)\n",
    "    return model\n",
    "\n",
    "# Step 3: Training\n",
    "train_images, val_images, train_masks, val_masks = train_test_split(images, masks, test_size=0.2)\n",
    "\n",
    "# Define loss function (e.g., Dice Loss) and metrics (e.g., Dice Score)\n",
    "def dice_coefficient(y_true, y_pred, smooth=1):\n",
    "    intersection = tf.reduce_sum(y_true * y_pred)\n",
    "    return (2. * intersection + smooth) / (tf.reduce_sum(y_true) + tf.reduce_sum(y_pred) + smooth)\n",
    "\n",
    "def dice_loss(y_true, y_pred):\n",
    "    return 1 - dice_coefficient(y_true, y_pred)\n",
    "\n",
    "# Compile the model\n",
    "model = unet_model()\n",
    "model.compile(optimizer='adam', loss=dice_loss, metrics=[dice_coefficient])\n",
    "\n",
    "# Train the model\n",
    "model.fit(train_images, train_masks, validation_data=(val_images, val_masks), epochs=epochs, batch_size=batch_size)\n",
    "\n",
    "# Step 4: Evaluation\n",
    "# Evaluate the model on the validation set\n",
    "val_loss, val_dice = model.evaluate(val_images, val_masks)\n",
    "\n",
    "# Step 5: Inference\n",
    "# Perform inference on the test set and generate predictions\n",
    "test_predictions = model.predict(test_images)\n"
   ]
  }
 ],
 "metadata": {
  "kaggle": {
   "accelerator": "gpu",
   "dataSources": [
    {
     "databundleVersionId": 868324,
     "sourceId": 9988,
     "sourceType": "competition"
    }
   ],
   "dockerImageVersionId": 30648,
   "isGpuEnabled": true,
   "isInternetEnabled": true,
   "language": "python",
   "sourceType": "notebook"
  },
  "kernelspec": {
   "display_name": "Python 3",
   "language": "python",
   "name": "python3"
  },
  "language_info": {
   "codemirror_mode": {
    "name": "ipython",
    "version": 3
   },
   "file_extension": ".py",
   "mimetype": "text/x-python",
   "name": "python",
   "nbconvert_exporter": "python",
   "pygments_lexer": "ipython3",
   "version": "3.10.13"
  },
  "papermill": {
   "default_parameters": {},
   "duration": 570.05199,
   "end_time": "2024-03-18T15:45:21.218797",
   "environment_variables": {},
   "exception": null,
   "input_path": "__notebook__.ipynb",
   "output_path": "__notebook__.ipynb",
   "parameters": {},
   "start_time": "2024-03-18T15:35:51.166807",
   "version": "2.5.0"
  }
 },
 "nbformat": 4,
 "nbformat_minor": 5
}
